{
 "cells": [
  {
   "cell_type": "code",
   "execution_count": 1,
   "metadata": {},
   "outputs": [],
   "source": [
    "import pandas as pd\n",
    "import json\n",
    "from tqdm import tqdm"
   ]
  },
  {
   "cell_type": "code",
   "execution_count": 4,
   "metadata": {},
   "outputs": [],
   "source": [
    "with open(\"solr_classification_20221204.json\") as f:\n",
    "    data = json.load(f)"
   ]
  },
  {
   "cell_type": "code",
   "execution_count": 12,
   "metadata": {},
   "outputs": [
    {
     "name": "stderr",
     "output_type": "stream",
     "text": [
      "100%|██████████| 74324006/74324006 [02:29<00:00, 496052.90it/s] \n"
     ]
    },
    {
     "name": "stdout",
     "output_type": "stream",
     "text": [
      "134519  Docstrings ohne Klasse\n"
     ]
    }
   ],
   "source": [
    "records=[]\n",
    "n=0\n",
    "for i in tqdm(data['response'][\"docs\"]):\n",
    "    record_id=i['DBRECORDID']\n",
    "    try:\n",
    "        classy=i['classification'][0]\n",
    "    except Exception:\n",
    "        classy=[\"NaN\"]\n",
    "        n=n+1\n",
    "    records.append([record_id,classy])\n",
    "\n",
    "print(n , \" Docstrings ohne Klasse\")\n",
    "df= pd.DataFrame(records,columns=[\"record_id\",\"class\"])\n",
    "df=df.set_index('record_id')"
   ]
  },
  {
   "cell_type": "code",
   "execution_count": 11,
   "metadata": {},
   "outputs": [],
   "source": [
    "df.to_csv(\"records_cleaned.csv\")  "
   ]
  }
 ],
 "metadata": {
  "kernelspec": {
   "display_name": "Python 3",
   "language": "python",
   "name": "python3"
  },
  "language_info": {
   "codemirror_mode": {
    "name": "ipython",
    "version": 3
   },
   "file_extension": ".py",
   "mimetype": "text/x-python",
   "name": "python",
   "nbconvert_exporter": "python",
   "pygments_lexer": "ipython3",
   "version": "3.11.0 (main, Oct 24 2022, 18:26:48) [MSC v.1933 64 bit (AMD64)]"
  },
  "orig_nbformat": 4,
  "vscode": {
   "interpreter": {
    "hash": "ca37fc2f56e054c56d59296cb3017116b9862e7f9ad082ff8860f3927f933d67"
   }
  }
 },
 "nbformat": 4,
 "nbformat_minor": 2
}
