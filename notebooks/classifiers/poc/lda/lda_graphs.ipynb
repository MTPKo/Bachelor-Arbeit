{
 "cells": [
  {
   "cell_type": "code",
   "execution_count": 2,
   "metadata": {},
   "outputs": [],
   "source": [
    "import pandas as pd\n",
    "import numpy as np\n",
    "from tqdm import tqdm\n",
    "from pandarallel import pandarallel\n",
    "import regex as re\n",
    "import glob\n",
    "import os\n",
    "pandarallel.initialize(progress_bar=True, nb_workers= 16, verbose = 0)\n",
    "tqdm.pandas()"
   ]
  },
  {
   "cell_type": "code",
   "execution_count": 3,
   "metadata": {},
   "outputs": [],
   "source": [
    "import seaborn as sns\n",
    "import matplotlib.pyplot as plt\n",
    "from scipy import interpolate\n",
    "import numpy as np\n",
    "from scipy.ndimage import gaussian_filter1d"
   ]
  },
  {
   "cell_type": "code",
   "execution_count": 99,
   "metadata": {},
   "outputs": [
    {
     "name": "stdout",
     "output_type": "stream",
     "text": [
      "D:\\GIT\\Bachelor-Arbeit\\notebooks\\classifiers\\poc\\lda\\lda_score_csv\n",
      "loading from : 8 files\n"
     ]
    }
   ],
   "source": [
    "file_paths=[]\n",
    "path = r'D:\\GIT\\Bachelor-Arbeit\\notebooks\\classifiers\\poc\\lda\\lda_score_csv' # path\n",
    "print(path)\n",
    "#file_paths = [f for f in os.listdir(path) if f.endswith('.csv')]\n",
    "for file in  glob.glob(os.path.join(path , \"*_4.csv\")):\n",
    "    file_paths.append(file)\n",
    "print(\"loading from :\",len(file_paths),\"files\")\n",
    "while '.csv' in file_paths:\n",
    "    file_paths.remove('.csv')\n",
    "#safe all file names as cleaned keys\n",
    "r = r\"(.csv)|D:\\\\GIT\\\\Bachelor-Arbeit\\\\notebooks\\\\classifiers\\\\poc\\\\lda\\\\lda_score_csv\\\\topic_population_at_\\d*_topics_\"\n",
    "subst = \"\"\n",
    "file_keys=[]\n",
    "for i in file_paths:\n",
    "    names = re.sub(r, subst, i)\n",
    "    file_keys.append(names)\n",
    "while '' in file_keys:\n",
    "    file_keys.remove('')\n",
    "file_keys = map(int, file_keys)"
   ]
  },
  {
   "cell_type": "code",
   "execution_count": 100,
   "metadata": {},
   "outputs": [],
   "source": [
    "df = pd.concat(map(pd.read_csv,file_paths))"
   ]
  },
  {
   "cell_type": "code",
   "execution_count": 101,
   "metadata": {},
   "outputs": [],
   "source": [
    "df[\"topics\"] = list(file_keys)[1]"
   ]
  },
  {
   "cell_type": "code",
   "execution_count": 102,
   "metadata": {},
   "outputs": [
    {
     "data": {
      "text/html": [
       "<div>\n",
       "<style scoped>\n",
       "    .dataframe tbody tr th:only-of-type {\n",
       "        vertical-align: middle;\n",
       "    }\n",
       "\n",
       "    .dataframe tbody tr th {\n",
       "        vertical-align: top;\n",
       "    }\n",
       "\n",
       "    .dataframe thead th {\n",
       "        text-align: right;\n",
       "    }\n",
       "</style>\n",
       "<table border=\"1\" class=\"dataframe\">\n",
       "  <thead>\n",
       "    <tr style=\"text-align: right;\">\n",
       "      <th></th>\n",
       "      <th>Unnamed: 0</th>\n",
       "      <th>class</th>\n",
       "      <th>topic</th>\n",
       "      <th>count</th>\n",
       "      <th>topics</th>\n",
       "    </tr>\n",
       "  </thead>\n",
       "  <tbody>\n",
       "    <tr>\n",
       "      <th>0</th>\n",
       "      <td>0</td>\n",
       "      <td>ErnÃ¤hrung</td>\n",
       "      <td>0.0</td>\n",
       "      <td>84</td>\n",
       "      <td>4</td>\n",
       "    </tr>\n",
       "    <tr>\n",
       "      <th>1</th>\n",
       "      <td>1</td>\n",
       "      <td>Landwirtschaft</td>\n",
       "      <td>0.0</td>\n",
       "      <td>94</td>\n",
       "      <td>4</td>\n",
       "    </tr>\n",
       "    <tr>\n",
       "      <th>2</th>\n",
       "      <td>2</td>\n",
       "      <td>Medizin</td>\n",
       "      <td>0.0</td>\n",
       "      <td>86</td>\n",
       "      <td>4</td>\n",
       "    </tr>\n",
       "    <tr>\n",
       "      <th>3</th>\n",
       "      <td>3</td>\n",
       "      <td>Medizin</td>\n",
       "      <td>3.0</td>\n",
       "      <td>1</td>\n",
       "      <td>4</td>\n",
       "    </tr>\n",
       "    <tr>\n",
       "      <th>4</th>\n",
       "      <td>4</td>\n",
       "      <td>Umweltwissenschaften</td>\n",
       "      <td>0.0</td>\n",
       "      <td>83</td>\n",
       "      <td>4</td>\n",
       "    </tr>\n",
       "    <tr>\n",
       "      <th>...</th>\n",
       "      <td>...</td>\n",
       "      <td>...</td>\n",
       "      <td>...</td>\n",
       "      <td>...</td>\n",
       "      <td>...</td>\n",
       "    </tr>\n",
       "    <tr>\n",
       "      <th>9</th>\n",
       "      <td>9</td>\n",
       "      <td>Medizin</td>\n",
       "      <td>3.0</td>\n",
       "      <td>1</td>\n",
       "      <td>4</td>\n",
       "    </tr>\n",
       "    <tr>\n",
       "      <th>10</th>\n",
       "      <td>10</td>\n",
       "      <td>Medizin</td>\n",
       "      <td>NaN</td>\n",
       "      <td>2523</td>\n",
       "      <td>4</td>\n",
       "    </tr>\n",
       "    <tr>\n",
       "      <th>11</th>\n",
       "      <td>11</td>\n",
       "      <td>Umweltwissenschaften</td>\n",
       "      <td>0.0</td>\n",
       "      <td>349</td>\n",
       "      <td>4</td>\n",
       "    </tr>\n",
       "    <tr>\n",
       "      <th>12</th>\n",
       "      <td>12</td>\n",
       "      <td>Umweltwissenschaften</td>\n",
       "      <td>1.0</td>\n",
       "      <td>2021</td>\n",
       "      <td>4</td>\n",
       "    </tr>\n",
       "    <tr>\n",
       "      <th>13</th>\n",
       "      <td>13</td>\n",
       "      <td>Umweltwissenschaften</td>\n",
       "      <td>NaN</td>\n",
       "      <td>3079</td>\n",
       "      <td>4</td>\n",
       "    </tr>\n",
       "  </tbody>\n",
       "</table>\n",
       "<p>87 rows × 5 columns</p>\n",
       "</div>"
      ],
      "text/plain": [
       "    Unnamed: 0                 class  topic  count  topics\n",
       "0            0            ErnÃ¤hrung    0.0     84       4\n",
       "1            1        Landwirtschaft    0.0     94       4\n",
       "2            2               Medizin    0.0     86       4\n",
       "3            3               Medizin    3.0      1       4\n",
       "4            4  Umweltwissenschaften    0.0     83       4\n",
       "..         ...                   ...    ...    ...     ...\n",
       "9            9               Medizin    3.0      1       4\n",
       "10          10               Medizin    NaN   2523       4\n",
       "11          11  Umweltwissenschaften    0.0    349       4\n",
       "12          12  Umweltwissenschaften    1.0   2021       4\n",
       "13          13  Umweltwissenschaften    NaN   3079       4\n",
       "\n",
       "[87 rows x 5 columns]"
      ]
     },
     "execution_count": 102,
     "metadata": {},
     "output_type": "execute_result"
    }
   ],
   "source": [
    "df"
   ]
  },
  {
   "cell_type": "code",
   "execution_count": null,
   "metadata": {},
   "outputs": [],
   "source": []
  }
 ],
 "metadata": {
  "kernelspec": {
   "display_name": "Python 3",
   "language": "python",
   "name": "python3"
  },
  "language_info": {
   "codemirror_mode": {
    "name": "ipython",
    "version": 3
   },
   "file_extension": ".py",
   "mimetype": "text/x-python",
   "name": "python",
   "nbconvert_exporter": "python",
   "pygments_lexer": "ipython3",
   "version": "3.11.0"
  },
  "orig_nbformat": 4
 },
 "nbformat": 4,
 "nbformat_minor": 2
}
